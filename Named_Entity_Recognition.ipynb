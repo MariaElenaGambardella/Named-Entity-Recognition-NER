{
  "nbformat": 4,
  "nbformat_minor": 0,
  "metadata": {
    "colab": {
      "name": "Named Entity Recognition.ipynb",
      "provenance": []
    },
    "kernelspec": {
      "display_name": "Python 3",
      "name": "python3"
    },
    "language_info": {
      "name": "python"
    }
  },
  "cells": [
    {
      "cell_type": "markdown",
      "metadata": {
        "id": "nUU2N980Lvei"
      },
      "source": [
        "# Named Entity Recognition"
      ]
    },
    {
      "cell_type": "markdown",
      "metadata": {
        "id": "9MIVXNoYn0K_"
      },
      "source": [
        "Named entity recognition, or NER is a Natural Language Processing (NLP) technique that automatically identifies named entities in a text and classifies them into predefined categories. Named 3etities can be names of people, organizations, locations, etc.\n",
        "\n",
        "In this notebook we will perform this task using a Bi-LSTM neural network"
      ]
    },
    {
      "cell_type": "markdown",
      "metadata": {
        "id": "8W5uRqEgL2Wp"
      },
      "source": [
        "## Importing important libraries\n",
        "\n"
      ]
    },
    {
      "cell_type": "code",
      "metadata": {
        "id": "yr3dvIK0Lu7o"
      },
      "source": [
        "import pandas as pd\n",
        "import numpy as np\n",
        "import matplotlib.pyplot as plt\n",
        "import seaborn as sns\n",
        "from matplotlib.gridspec import GridSpec\n",
        "from keras.preprocessing.sequence import pad_sequences\n",
        "from sklearn.model_selection import train_test_split\n",
        "import matplotlib.pyplot as plt\n",
        "from tensorflow.keras.utils import to_categorical\n",
        "from keras.layers import Bidirectional\n",
        "from keras.layers import Dense\n",
        "from keras.layers import LSTM\n",
        "from keras.layers import Input\n",
        "from keras.layers import Embedding\n",
        "from keras.layers import Dropout\n",
        "from keras.layers import TimeDistributed\n",
        "from tensorflow import keras\n"
      ],
      "execution_count": 6,
      "outputs": []
    },
    {
      "cell_type": "markdown",
      "metadata": {
        "id": "RU1eiP1UMA5f"
      },
      "source": [
        "## Loading Data"
      ]
    },
    {
      "cell_type": "markdown",
      "metadata": {
        "id": "WBpqZoD8MK-D"
      },
      "source": [
        "## Data Visualization"
      ]
    },
    {
      "cell_type": "code",
      "metadata": {
        "colab": {
          "base_uri": "https://localhost:8080/",
          "height": 206
        },
        "id": "4oSQsTrPMOaT",
        "outputId": "0e32f476-ec0f-4e3b-d4f5-106f46879f58"
      },
      "source": [
        "data = pd.read_csv('/content/Named-Entity-Recognition-NER/ner_dataset.csv' ,encoding='latin1')\n",
        "data = data.fillna(method='ffill')\n",
        "data.head()"
      ],
      "execution_count": 8,
      "outputs": [
        {
          "output_type": "execute_result",
          "data": {
            "text/html": [
              "<div>\n",
              "<style scoped>\n",
              "    .dataframe tbody tr th:only-of-type {\n",
              "        vertical-align: middle;\n",
              "    }\n",
              "\n",
              "    .dataframe tbody tr th {\n",
              "        vertical-align: top;\n",
              "    }\n",
              "\n",
              "    .dataframe thead th {\n",
              "        text-align: right;\n",
              "    }\n",
              "</style>\n",
              "<table border=\"1\" class=\"dataframe\">\n",
              "  <thead>\n",
              "    <tr style=\"text-align: right;\">\n",
              "      <th></th>\n",
              "      <th>Sentence #</th>\n",
              "      <th>Word</th>\n",
              "      <th>POS</th>\n",
              "      <th>Tag</th>\n",
              "    </tr>\n",
              "  </thead>\n",
              "  <tbody>\n",
              "    <tr>\n",
              "      <th>0</th>\n",
              "      <td>Sentence: 1</td>\n",
              "      <td>Thousands</td>\n",
              "      <td>NNS</td>\n",
              "      <td>O</td>\n",
              "    </tr>\n",
              "    <tr>\n",
              "      <th>1</th>\n",
              "      <td>Sentence: 1</td>\n",
              "      <td>of</td>\n",
              "      <td>IN</td>\n",
              "      <td>O</td>\n",
              "    </tr>\n",
              "    <tr>\n",
              "      <th>2</th>\n",
              "      <td>Sentence: 1</td>\n",
              "      <td>demonstrators</td>\n",
              "      <td>NNS</td>\n",
              "      <td>O</td>\n",
              "    </tr>\n",
              "    <tr>\n",
              "      <th>3</th>\n",
              "      <td>Sentence: 1</td>\n",
              "      <td>have</td>\n",
              "      <td>VBP</td>\n",
              "      <td>O</td>\n",
              "    </tr>\n",
              "    <tr>\n",
              "      <th>4</th>\n",
              "      <td>Sentence: 1</td>\n",
              "      <td>marched</td>\n",
              "      <td>VBN</td>\n",
              "      <td>O</td>\n",
              "    </tr>\n",
              "  </tbody>\n",
              "</table>\n",
              "</div>"
            ],
            "text/plain": [
              "    Sentence #           Word  POS Tag\n",
              "0  Sentence: 1      Thousands  NNS   O\n",
              "1  Sentence: 1             of   IN   O\n",
              "2  Sentence: 1  demonstrators  NNS   O\n",
              "3  Sentence: 1           have  VBP   O\n",
              "4  Sentence: 1        marched  VBN   O"
            ]
          },
          "metadata": {
            "tags": []
          },
          "execution_count": 8
        }
      ]
    },
    {
      "cell_type": "markdown",
      "metadata": {
        "id": "p0MatfKDov-j"
      },
      "source": [
        "As we can see the data uses both POS and IOB tagging"
      ]
    },
    {
      "cell_type": "code",
      "metadata": {
        "colab": {
          "base_uri": "https://localhost:8080/"
        },
        "id": "ZC4tDLIrPELR",
        "outputId": "9a74bc7d-4d1d-49a9-acb7-3a46cc2aee67"
      },
      "source": [
        "print(\"TAGS\")\n",
        "print(data['Tag'].value_counts())"
      ],
      "execution_count": 9,
      "outputs": [
        {
          "output_type": "stream",
          "text": [
            "TAGS\n",
            "O        887908\n",
            "B-geo     37644\n",
            "B-tim     20333\n",
            "B-org     20143\n",
            "I-per     17251\n",
            "B-per     16990\n",
            "I-org     16784\n",
            "B-gpe     15870\n",
            "I-geo      7414\n",
            "I-tim      6528\n",
            "B-art       402\n",
            "B-eve       308\n",
            "I-art       297\n",
            "I-eve       253\n",
            "B-nat       201\n",
            "I-gpe       198\n",
            "I-nat        51\n",
            "Name: Tag, dtype: int64\n"
          ],
          "name": "stdout"
        }
      ]
    },
    {
      "cell_type": "markdown",
      "metadata": {
        "id": "hDEiWfrJo4nj"
      },
      "source": [
        "IOB stands for Inside-Outside-Beginning where:\n",
        "* `I-` prefix before a tag indicates that the tag is inside a chunk\n",
        "* `B-` prefix before a tag indicates that the tag is the beginning of a chunk\n",
        "* `O` tag indicates that a token belongs to no chunk (outside)\n",
        "\n",
        "The tags following the prefixes show the nature of the chunk itself where:\n",
        "* `geo` stands for Geographical Entity\n",
        "* `org` stands for Organization\n",
        "* per stands for Person\n",
        "* gpe stands for Geopolitical Entity\n",
        "* tim stands for Time indicator\n",
        "* art stands for Artifact\n",
        "* eve stands for Event\n",
        "* nat stands for Natural Phenomenon"
      ]
    },
    {
      "cell_type": "code",
      "metadata": {
        "colab": {
          "base_uri": "https://localhost:8080/",
          "height": 502
        },
        "id": "pVTuKALSXMw-",
        "outputId": "053cd41a-ebfd-4aad-97ec-fb4b713a8e4d"
      },
      "source": [
        "plt.figure(figsize=(8,8))\n",
        "data['Tag'].value_counts().plot(kind='bar')\n",
        "plt.show()"
      ],
      "execution_count": 10,
      "outputs": [
        {
          "output_type": "display_data",
          "data": {
            "image/png": "[encoded data removed]",
            "text/plain": [
              "<Figure size 576x576 with 1 Axes>"
            ]
          },
          "metadata": {
            "tags": [],
            "needs_background": "light"
          }
        }
      ]
    },
    {
      "cell_type": "markdown",
      "metadata": {
        "id": "a0KJdej7X_9K"
      },
      "source": [
        "## Data Preparation"
      ]
    },
    {
      "cell_type": "markdown",
      "metadata": {
        "id": "aZ4fN9vbhUIM"
      },
      "source": [
        "We make a list of words, tags and sentences\n"
      ]
    },
    {
      "cell_type": "code",
      "metadata": {
        "id": "npL_wX0vfwlC"
      },
      "source": [
        "class SentenceGetter(object):\n",
        "    \n",
        "    def __init__(self, data):\n",
        "        self.n_sent = 1\n",
        "        self.data = data\n",
        "        self.empty = False\n",
        "        agg_func = lambda s: [(w, p, t) for w, p, t in zip(s[\"Word\"].values.tolist(),\n",
        "                                                           s[\"POS\"].values.tolist(),\n",
        "                                                           s[\"Tag\"].values.tolist())]\n",
        "        self.grouped = self.data.groupby(\"Sentence #\").apply(agg_func)\n",
        "        self.sentences = [s for s in self.grouped]\n",
        "    \n",
        "    def get_next(self):\n",
        "        try:\n",
        "            s = self.grouped[\"Sentence: {}\".format(self.n_sent)]\n",
        "            self.n_sent += 1\n",
        "            return s\n",
        "        except:\n",
        "            return None"
      ],
      "execution_count": 11,
      "outputs": []
    },
    {
      "cell_type": "code",
      "metadata": {
        "colab": {
          "base_uri": "https://localhost:8080/"
        },
        "id": "YWRc3iSLdQt8",
        "outputId": "c1c3cfe7-773e-4e89-e345-c6e074413163"
      },
      "source": [
        "words = list(set(data['Word'].values))\n",
        "words.append('ENDPAD')\n",
        "tags = list(set(data['Tag'].values))\n",
        "sentences = SentenceGetter(data).sentences\n",
        "print('Number of sentences:', len(sentences))\n",
        "print('Number of words:', len(words))\n",
        "print('Number of tags:', len(tags))"
      ],
      "execution_count": 12,
      "outputs": [
        {
          "output_type": "stream",
          "text": [
            "Number of sentences: 47959\n",
            "Number of words: 35179\n",
            "Number of tags: 17\n"
          ],
          "name": "stdout"
        }
      ]
    },
    {
      "cell_type": "markdown",
      "metadata": {
        "id": "IPgdowk7ejMP"
      },
      "source": [
        "## Feature extraction"
      ]
    },
    {
      "cell_type": "markdown",
      "metadata": {
        "id": "hUSHcTJQhXaT"
      },
      "source": [
        "We transform words, tags and sentences into numbers based on their index. This is also known as label encoding, but because our sentences are a list of lists of tuples we could not use e.g. LabelEncoder.\n"
      ]
    },
    {
      "cell_type": "code",
      "metadata": {
        "id": "hWG9TqcAeinV"
      },
      "source": [
        "word2idx = {w: i for i, w in enumerate(words)}\n",
        "tag2idx = {t: i for i, t in enumerate(tags)}\n",
        "\n",
        "idx2word = {i: w for w, i in word2idx.items()}\n",
        "idx2tag = {i: w for w, i in tag2idx.items()}"
      ],
      "execution_count": 13,
      "outputs": []
    },
    {
      "cell_type": "code",
      "metadata": {
        "colab": {
          "base_uri": "https://localhost:8080/"
        },
        "id": "QfmCza8FiAuU",
        "outputId": "63a23d5c-14db-43ae-a388-b24188947728"
      },
      "source": [
        "X = [[word2idx[w[0]] for w in s] for s in sentences]\n",
        "print(X[0])\n",
        "for i in X[0]:\n",
        "  print(idx2word[i], end = ' ')"
      ],
      "execution_count": 14,
      "outputs": [
        {
          "output_type": "stream",
          "text": [
            "[12927, 9783, 20492, 25419, 10502, 29240, 23091, 18597, 12186, 16488, 12261, 27052, 24439, 23611, 27199, 16488, 32690, 9783, 24161, 2433, 34756, 33256, 14449, 29389]\n",
            "Thousands of demonstrators have marched through London to protest the war in Iraq and demand the withdrawal of British troops from that country . "
          ],
          "name": "stdout"
        }
      ]
    },
    {
      "cell_type": "code",
      "metadata": {
        "colab": {
          "base_uri": "https://localhost:8080/"
        },
        "id": "0xpXwjqSoYae",
        "outputId": "3e18f950-08d9-417a-d07f-ff1f3ce485aa"
      },
      "source": [
        "y = [[tag2idx[w[2]] for w in s] for s in sentences]\n",
        "print(y[0])\n",
        "for i in y[0]:\n",
        "  print(idx2tag[i], end = ' ')"
      ],
      "execution_count": 15,
      "outputs": [
        {
          "output_type": "stream",
          "text": [
            "[2, 2, 2, 2, 2, 2, 10, 2, 2, 2, 2, 2, 10, 2, 2, 2, 2, 2, 7, 2, 2, 2, 2, 2]\n",
            "O O O O O O B-geo O O O O O B-geo O O O O O B-gpe O O O O O "
          ],
          "name": "stdout"
        }
      ]
    },
    {
      "cell_type": "markdown",
      "metadata": {
        "id": "ZqREnlkSnM9b"
      },
      "source": [
        "Our sentences and tags need to be the same length"
      ]
    },
    {
      "cell_type": "code",
      "metadata": {
        "colab": {
          "base_uri": "https://localhost:8080/"
        },
        "id": "Vt7sV26ZmmPQ",
        "outputId": "9a8c817f-8b31-4711-dcb7-ce827a3b436b"
      },
      "source": [
        "max_len = 50\n",
        "\n",
        "X = pad_sequences(maxlen=max_len, sequences=X, padding=\"post\", value=len(words)-1)\n",
        "y = pad_sequences(maxlen=max_len, sequences=y, padding=\"post\", value=tag2idx['O'])\n",
        "print(X[0])\n",
        "print(y[0])"
      ],
      "execution_count": 16,
      "outputs": [
        {
          "output_type": "stream",
          "text": [
            "[12927  9783 20492 25419 10502 29240 23091 18597 12186 16488 12261 27052\n",
            " 24439 23611 27199 16488 32690  9783 24161  2433 34756 33256 14449 29389\n",
            " 35178 35178 35178 35178 35178 35178 35178 35178 35178 35178 35178 35178\n",
            " 35178 35178 35178 35178 35178 35178 35178 35178 35178 35178 35178 35178\n",
            " 35178 35178]\n",
            "[ 2  2  2  2  2  2 10  2  2  2  2  2 10  2  2  2  2  2  7  2  2  2  2  2\n",
            "  2  2  2  2  2  2  2  2  2  2  2  2  2  2  2  2  2  2  2  2  2  2  2  2\n",
            "  2  2]\n"
          ],
          "name": "stdout"
        }
      ]
    },
    {
      "cell_type": "code",
      "metadata": {
        "id": "ml8Mfbs0sf7g"
      },
      "source": [
        "y = [to_categorical(i, num_classes=len(tags)) for i in y]"
      ],
      "execution_count": 17,
      "outputs": []
    },
    {
      "cell_type": "code",
      "metadata": {
        "colab": {
          "base_uri": "https://localhost:8080/"
        },
        "id": "bqSr_O0E87xX",
        "outputId": "a56c414f-1409-4df9-ad68-118b899cc5d8"
      },
      "source": [
        "print(y[0])"
      ],
      "execution_count": 18,
      "outputs": [
        {
          "output_type": "stream",
          "text": [
            "[[0. 0. 1. 0. 0. 0. 0. 0. 0. 0. 0. 0. 0. 0. 0. 0. 0.]\n",
            " [0. 0. 1. 0. 0. 0. 0. 0. 0. 0. 0. 0. 0. 0. 0. 0. 0.]\n",
            " [0. 0. 1. 0. 0. 0. 0. 0. 0. 0. 0. 0. 0. 0. 0. 0. 0.]\n",
            " [0. 0. 1. 0. 0. 0. 0. 0. 0. 0. 0. 0. 0. 0. 0. 0. 0.]\n",
            " [0. 0. 1. 0. 0. 0. 0. 0. 0. 0. 0. 0. 0. 0. 0. 0. 0.]\n",
            " [0. 0. 1. 0. 0. 0. 0. 0. 0. 0. 0. 0. 0. 0. 0. 0. 0.]\n",
            " [0. 0. 0. 0. 0. 0. 0. 0. 0. 0. 1. 0. 0. 0. 0. 0. 0.]\n",
            " [0. 0. 1. 0. 0. 0. 0. 0. 0. 0. 0. 0. 0. 0. 0. 0. 0.]\n",
            " [0. 0. 1. 0. 0. 0. 0. 0. 0. 0. 0. 0. 0. 0. 0. 0. 0.]\n",
            " [0. 0. 1. 0. 0. 0. 0. 0. 0. 0. 0. 0. 0. 0. 0. 0. 0.]\n",
            " [0. 0. 1. 0. 0. 0. 0. 0. 0. 0. 0. 0. 0. 0. 0. 0. 0.]\n",
            " [0. 0. 1. 0. 0. 0. 0. 0. 0. 0. 0. 0. 0. 0. 0. 0. 0.]\n",
            " [0. 0. 0. 0. 0. 0. 0. 0. 0. 0. 1. 0. 0. 0. 0. 0. 0.]\n",
            " [0. 0. 1. 0. 0. 0. 0. 0. 0. 0. 0. 0. 0. 0. 0. 0. 0.]\n",
            " [0. 0. 1. 0. 0. 0. 0. 0. 0. 0. 0. 0. 0. 0. 0. 0. 0.]\n",
            " [0. 0. 1. 0. 0. 0. 0. 0. 0. 0. 0. 0. 0. 0. 0. 0. 0.]\n",
            " [0. 0. 1. 0. 0. 0. 0. 0. 0. 0. 0. 0. 0. 0. 0. 0. 0.]\n",
            " [0. 0. 1. 0. 0. 0. 0. 0. 0. 0. 0. 0. 0. 0. 0. 0. 0.]\n",
            " [0. 0. 0. 0. 0. 0. 0. 1. 0. 0. 0. 0. 0. 0. 0. 0. 0.]\n",
            " [0. 0. 1. 0. 0. 0. 0. 0. 0. 0. 0. 0. 0. 0. 0. 0. 0.]\n",
            " [0. 0. 1. 0. 0. 0. 0. 0. 0. 0. 0. 0. 0. 0. 0. 0. 0.]\n",
            " [0. 0. 1. 0. 0. 0. 0. 0. 0. 0. 0. 0. 0. 0. 0. 0. 0.]\n",
            " [0. 0. 1. 0. 0. 0. 0. 0. 0. 0. 0. 0. 0. 0. 0. 0. 0.]\n",
            " [0. 0. 1. 0. 0. 0. 0. 0. 0. 0. 0. 0. 0. 0. 0. 0. 0.]\n",
            " [0. 0. 1. 0. 0. 0. 0. 0. 0. 0. 0. 0. 0. 0. 0. 0. 0.]\n",
            " [0. 0. 1. 0. 0. 0. 0. 0. 0. 0. 0. 0. 0. 0. 0. 0. 0.]\n",
            " [0. 0. 1. 0. 0. 0. 0. 0. 0. 0. 0. 0. 0. 0. 0. 0. 0.]\n",
            " [0. 0. 1. 0. 0. 0. 0. 0. 0. 0. 0. 0. 0. 0. 0. 0. 0.]\n",
            " [0. 0. 1. 0. 0. 0. 0. 0. 0. 0. 0. 0. 0. 0. 0. 0. 0.]\n",
            " [0. 0. 1. 0. 0. 0. 0. 0. 0. 0. 0. 0. 0. 0. 0. 0. 0.]\n",
            " [0. 0. 1. 0. 0. 0. 0. 0. 0. 0. 0. 0. 0. 0. 0. 0. 0.]\n",
            " [0. 0. 1. 0. 0. 0. 0. 0. 0. 0. 0. 0. 0. 0. 0. 0. 0.]\n",
            " [0. 0. 1. 0. 0. 0. 0. 0. 0. 0. 0. 0. 0. 0. 0. 0. 0.]\n",
            " [0. 0. 1. 0. 0. 0. 0. 0. 0. 0. 0. 0. 0. 0. 0. 0. 0.]\n",
            " [0. 0. 1. 0. 0. 0. 0. 0. 0. 0. 0. 0. 0. 0. 0. 0. 0.]\n",
            " [0. 0. 1. 0. 0. 0. 0. 0. 0. 0. 0. 0. 0. 0. 0. 0. 0.]\n",
            " [0. 0. 1. 0. 0. 0. 0. 0. 0. 0. 0. 0. 0. 0. 0. 0. 0.]\n",
            " [0. 0. 1. 0. 0. 0. 0. 0. 0. 0. 0. 0. 0. 0. 0. 0. 0.]\n",
            " [0. 0. 1. 0. 0. 0. 0. 0. 0. 0. 0. 0. 0. 0. 0. 0. 0.]\n",
            " [0. 0. 1. 0. 0. 0. 0. 0. 0. 0. 0. 0. 0. 0. 0. 0. 0.]\n",
            " [0. 0. 1. 0. 0. 0. 0. 0. 0. 0. 0. 0. 0. 0. 0. 0. 0.]\n",
            " [0. 0. 1. 0. 0. 0. 0. 0. 0. 0. 0. 0. 0. 0. 0. 0. 0.]\n",
            " [0. 0. 1. 0. 0. 0. 0. 0. 0. 0. 0. 0. 0. 0. 0. 0. 0.]\n",
            " [0. 0. 1. 0. 0. 0. 0. 0. 0. 0. 0. 0. 0. 0. 0. 0. 0.]\n",
            " [0. 0. 1. 0. 0. 0. 0. 0. 0. 0. 0. 0. 0. 0. 0. 0. 0.]\n",
            " [0. 0. 1. 0. 0. 0. 0. 0. 0. 0. 0. 0. 0. 0. 0. 0. 0.]\n",
            " [0. 0. 1. 0. 0. 0. 0. 0. 0. 0. 0. 0. 0. 0. 0. 0. 0.]\n",
            " [0. 0. 1. 0. 0. 0. 0. 0. 0. 0. 0. 0. 0. 0. 0. 0. 0.]\n",
            " [0. 0. 1. 0. 0. 0. 0. 0. 0. 0. 0. 0. 0. 0. 0. 0. 0.]\n",
            " [0. 0. 1. 0. 0. 0. 0. 0. 0. 0. 0. 0. 0. 0. 0. 0. 0.]]\n"
          ],
          "name": "stdout"
        }
      ]
    },
    {
      "cell_type": "markdown",
      "metadata": {
        "id": "APkWBS4puACd"
      },
      "source": [
        "## Splitting data into train and test set"
      ]
    },
    {
      "cell_type": "code",
      "metadata": {
        "colab": {
          "base_uri": "https://localhost:8080/"
        },
        "id": "mVf9T5i0uD7B",
        "outputId": "ec0f8c3f-a71f-4225-bbf3-aff8cfb460af"
      },
      "source": [
        "train_x, test_x, train_y, test_y = train_test_split(X, y, test_size=0.1)\n",
        "print(\"Train shapes : X = {}, y = {}\".format(train_x.shape, (len(train_y), max_len)))\n",
        "print(\"Test shapes : X = {}, y = {}\".format(test_x.shape, (len(test_y), max_len)))"
      ],
      "execution_count": 19,
      "outputs": [
        {
          "output_type": "stream",
          "text": [
            "Train shapes : X = (43163, 50), y = (43163, 50)\n",
            "Test shapes : X = (4796, 50), y = (4796, 50)\n"
          ],
          "name": "stdout"
        }
      ]
    },
    {
      "cell_type": "markdown",
      "metadata": {
        "id": "AZ5zgZuevtGs"
      },
      "source": [
        "## Training the model"
      ]
    },
    {
      "cell_type": "markdown",
      "metadata": {
        "id": "-cU-he72rpmE"
      },
      "source": [
        "A Bidirectional LSTM, or Bi-LSTM, is a sequence processing model that consists of two LSTMs: one taking the input in a forward direction and the other in a backwards direction. The inputs are run in two ways: one from past to future (forward) and one from future to past (backward). Differently from a unidirectional LSTM, in the bidirectional the information from both LSTMs are preserved and as a result the model can understand context better."
      ]
    },
    {
      "cell_type": "code",
      "metadata": {
        "id": "VRg6hrJjvsTT"
      },
      "source": [
        "# create and fit the LSTM network\n",
        "\n",
        "input = Input(shape=(max_len, ))\n",
        "model = Embedding(input_dim=len(words), output_dim=50, input_length=max_len)(input)\n",
        "model = Dropout(0.5)(model)\n",
        "model = Bidirectional(LSTM(units=100, return_sequences=True, recurrent_dropout=0.1))(model)\n",
        "out = TimeDistributed(Dense(len(tags), activation=\"softmax\"))(model)  # softmax output layer\n",
        "\n",
        "model = keras.Model(input, out)\n",
        "\n",
        "opt = keras.optimizers.Adam(learning_rate=0.01, decay=1e-6)\n",
        "model.compile(optimizer=opt, loss=\"categorical_crossentropy\", metrics=[\"accuracy\"]) \n",
        "\n"
      ],
      "execution_count": 20,
      "outputs": []
    },
    {
      "cell_type": "code",
      "metadata": {
        "colab": {
          "base_uri": "https://localhost:8080/"
        },
        "id": "ODSC1wuCMoPE",
        "outputId": "d6ab4a28-9c1d-48a2-e612-95889df84cc1"
      },
      "source": [
        "history = model.fit(train_x, np.array(train_y), \n",
        "                    batch_size=32, \n",
        "                    epochs=10, \n",
        "                    validation_split=0.2,\n",
        "                    verbose=1)"
      ],
      "execution_count": 21,
      "outputs": [
        {
          "output_type": "stream",
          "text": [
            "Epoch 1/10\n",
            "1080/1080 [==============================] - 226s 204ms/step - loss: 0.0784 - accuracy: 0.9782 - val_loss: 0.0478 - val_accuracy: 0.9853\n",
            "Epoch 2/10\n",
            "1080/1080 [==============================] - 222s 206ms/step - loss: 0.0347 - accuracy: 0.9889 - val_loss: 0.0469 - val_accuracy: 0.9856\n",
            "Epoch 3/10\n",
            "1080/1080 [==============================] - 226s 209ms/step - loss: 0.0273 - accuracy: 0.9910 - val_loss: 0.0493 - val_accuracy: 0.9854\n",
            "Epoch 4/10\n",
            "1080/1080 [==============================] - 227s 210ms/step - loss: 0.0234 - accuracy: 0.9922 - val_loss: 0.0531 - val_accuracy: 0.9854\n",
            "Epoch 5/10\n",
            "1080/1080 [==============================] - 223s 206ms/step - loss: 0.0211 - accuracy: 0.9928 - val_loss: 0.0549 - val_accuracy: 0.9851\n",
            "Epoch 6/10\n",
            "1080/1080 [==============================] - 229s 212ms/step - loss: 0.0191 - accuracy: 0.9934 - val_loss: 0.0580 - val_accuracy: 0.9852\n",
            "Epoch 7/10\n",
            "1080/1080 [==============================] - 240s 222ms/step - loss: 0.0179 - accuracy: 0.9939 - val_loss: 0.0605 - val_accuracy: 0.9850\n",
            "Epoch 8/10\n",
            "1080/1080 [==============================] - 229s 212ms/step - loss: 0.0163 - accuracy: 0.9945 - val_loss: 0.0645 - val_accuracy: 0.9848\n",
            "Epoch 9/10\n",
            "1080/1080 [==============================] - 207s 191ms/step - loss: 0.0156 - accuracy: 0.9947 - val_loss: 0.0664 - val_accuracy: 0.9842\n",
            "Epoch 10/10\n",
            "1080/1080 [==============================] - 207s 192ms/step - loss: 0.0146 - accuracy: 0.9951 - val_loss: 0.0689 - val_accuracy: 0.9841\n"
          ],
          "name": "stdout"
        }
      ]
    },
    {
      "cell_type": "code",
      "metadata": {
        "colab": {
          "base_uri": "https://localhost:8080/",
          "height": 541
        },
        "id": "maQpuUnejaLU",
        "outputId": "0fa78d85-cb20-4bc9-ef6e-393ef6564319"
      },
      "source": [
        "def plot_graphs(history, string):\n",
        "  plt.plot(history.history[string])\n",
        "  plt.plot(history.history['val_'+string])\n",
        "  plt.xlabel(\"Epochs\")\n",
        "  plt.ylabel(string)\n",
        "  plt.legend([string, 'val_'+string])\n",
        "  plt.show()\n",
        "  \n",
        "plot_graphs(history, \"accuracy\")\n",
        "plot_graphs(history, \"loss\")"
      ],
      "execution_count": 22,
      "outputs": [
        {
          "output_type": "display_data",
          "data": {
            "image/png": "[encoded data removed]",
            "text/plain": [
              "<Figure size 432x288 with 1 Axes>"
            ]
          },
          "metadata": {
            "tags": [],
            "needs_background": "light"
          }
        },
        {
          "output_type": "display_data",
          "data": {
            "image/png": "[encoded data removed]",
            "text/plain": [
              "<Figure size 432x288 with 1 Axes>"
            ]
          },
          "metadata": {
            "tags": [],
            "needs_background": "light"
          }
        }
      ]
    },
    {
      "cell_type": "code",
      "metadata": {
        "colab": {
          "base_uri": "https://localhost:8080/"
        },
        "id": "PX409d8aT63k",
        "outputId": "02fc5e19-e8d1-4ee4-c9df-c519f4553c95"
      },
      "source": [
        "i = 150\n",
        "p = model.predict(np.array([test_x[i]]))\n",
        "p = np.argmax(p, axis=-1)\n",
        "\n",
        "print(\"{:15} {:15} {}\".format(\"Word\", \"Predicted tag\", \"True tag\"))\n",
        "for w, pred, true in zip(test_x[i], p[0], test_y[i]):\n",
        "  if idx2word[w] != \"ENDPAD\":\n",
        "    true_tag = list(true).index(1.0)\n",
        "    print(\"{:15}:{:15} ({})\".format(idx2word[w], tags[pred], tags[true_tag]))"
      ],
      "execution_count": 37,
      "outputs": [
        {
          "output_type": "stream",
          "text": [
            "Word            Predicted tag   True tag\n",
            "World          :O               (O)\n",
            "leaders        :O               (O)\n",
            "have           :O               (O)\n",
            "been           :O               (O)\n",
            "pressing       :O               (O)\n",
            "Sudan          :B-org           (B-gpe)\n",
            "to             :O               (O)\n",
            "accept         :O               (O)\n",
            "a              :O               (O)\n",
            "U.N.           :B-geo           (B-org)\n",
            "peacekeeping   :O               (O)\n",
            "force          :O               (O)\n",
            "in             :O               (O)\n",
            "Darfur         :B-geo           (B-geo)\n",
            ".              :O               (O)\n"
          ],
          "name": "stdout"
        }
      ]
    },
    {
      "cell_type": "code",
      "metadata": {
        "colab": {
          "base_uri": "https://localhost:8080/"
        },
        "id": "WR41FCkXTsvi",
        "outputId": "9a5fc86d-8bc5-4121-85b7-fc9afec852c5"
      },
      "source": [
        "total = 0\n",
        "count = 1\n",
        "\n",
        "for i in range(4796): #axis 0 size\n",
        "  p = model.predict(np.array([test_x[i]]))\n",
        "  p = np.argmax(p, axis=-1)\n",
        "  for w, pred, true in zip(test_x[i], p[0], test_y[i]):\n",
        "    total += 1\n",
        "    if idx2word[w] != \"ENDPAD\":\n",
        "      true_tag = list(true).index(1.0)\n",
        "      if tags[pred] == tags[true_tag]:\n",
        "        count += 1\n",
        "\n",
        "print('Accuracy:', round((count/total)*100, 2))"
      ],
      "execution_count": 24,
      "outputs": [
        {
          "output_type": "stream",
          "text": [
            "Accuracy: 42.21\n"
          ],
          "name": "stdout"
        }
      ]
    }
  ]
}